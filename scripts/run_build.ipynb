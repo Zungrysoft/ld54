{
 "cells": [
  {
   "attachments": {},
   "cell_type": "markdown",
   "metadata": {},
   "source": [
    "This file is used to perform various script-based tasks like converting between file types."
   ]
  },
  {
   "cell_type": "code",
   "execution_count": 23,
   "metadata": {},
   "outputs": [
    {
     "ename": "FileNotFoundError",
     "evalue": "[Errno 2] No such file or directory: '../json/structures/main/blueroom.json'",
     "output_type": "error",
     "traceback": [
      "\u001b[1;31m---------------------------------------------------------------------------\u001b[0m",
      "\u001b[1;31mFileNotFoundError\u001b[0m                         Traceback (most recent call last)",
      "\u001b[1;32md:\\dev\\ld54\\scripts\\run_build.ipynb Cell 2\u001b[0m line \u001b[0;36m1\n\u001b[0;32m     <a href='vscode-notebook-cell:/d%3A/dev/ld54/scripts/run_build.ipynb#W1sZmlsZQ%3D%3D?line=9'>10</a>\u001b[0m \u001b[39mif\u001b[39;00m \u001b[39m\"\u001b[39m\u001b[39mvox\u001b[39m\u001b[39m\"\u001b[39m \u001b[39min\u001b[39;00m filename:\n\u001b[0;32m     <a href='vscode-notebook-cell:/d%3A/dev/ld54/scripts/run_build.ipynb#W1sZmlsZQ%3D%3D?line=10'>11</a>\u001b[0m     new_filename \u001b[39m=\u001b[39m filename\u001b[39m.\u001b[39mreplace(\u001b[39m\"\u001b[39m\u001b[39mvox\u001b[39m\u001b[39m\"\u001b[39m, \u001b[39m\"\u001b[39m\u001b[39mjson\u001b[39m\u001b[39m\"\u001b[39m)\n\u001b[1;32m---> <a href='vscode-notebook-cell:/d%3A/dev/ld54/scripts/run_build.ipynb#W1sZmlsZQ%3D%3D?line=11'>12</a>\u001b[0m     convert_vox_to_json(\u001b[39mf\u001b[39;49m\u001b[39m\"\u001b[39;49m\u001b[39m../vox/\u001b[39;49m\u001b[39m{\u001b[39;49;00mfolder\u001b[39m}\u001b[39;49;00m\u001b[39m/\u001b[39;49m\u001b[39m{\u001b[39;49;00mfilename\u001b[39m}\u001b[39;49;00m\u001b[39m\"\u001b[39;49m, \u001b[39mf\u001b[39;49m\u001b[39m\"\u001b[39;49m\u001b[39m../json/structures/\u001b[39;49m\u001b[39m{\u001b[39;49;00mfolder\u001b[39m}\u001b[39;49;00m\u001b[39m/\u001b[39;49m\u001b[39m{\u001b[39;49;00mnew_filename\u001b[39m}\u001b[39;49;00m\u001b[39m\"\u001b[39;49m)\n",
      "File \u001b[1;32md:\\dev\\ld54\\scripts\\convert_vox_to_json.py:82\u001b[0m, in \u001b[0;36mconvert_vox_to_json\u001b[1;34m(input_filename, output_filename)\u001b[0m\n\u001b[0;32m     80\u001b[0m \u001b[39m# Read existing output file data\u001b[39;00m\n\u001b[0;32m     81\u001b[0m data \u001b[39m=\u001b[39m {}\n\u001b[1;32m---> 82\u001b[0m \u001b[39mwith\u001b[39;00m \u001b[39mopen\u001b[39;49m(output_filename, \u001b[39m'\u001b[39;49m\u001b[39mr\u001b[39;49m\u001b[39m'\u001b[39;49m) \u001b[39mas\u001b[39;00m output_file:\n\u001b[0;32m     83\u001b[0m     data \u001b[39m=\u001b[39m json\u001b[39m.\u001b[39mload(output_file)\n\u001b[0;32m     85\u001b[0m \u001b[39m# Put new voxel data into structure\u001b[39;00m\n",
      "\u001b[1;31mFileNotFoundError\u001b[0m: [Errno 2] No such file or directory: '../json/structures/main/blueroom.json'"
     ]
    }
   ],
   "source": [
    "# Convert all files in the .vox folder to json files\n",
    "import os\n",
    "from convert_vox_to_json import convert_vox_to_json\n",
    "\n",
    "folders = os.listdir('../vox')\n",
    "\n",
    "for folder in folders:\n",
    "    filenames = os.listdir(f\"../vox/{folder}\")\n",
    "    for filename in filenames:\n",
    "        if \"vox\" in filename:\n",
    "            new_filename = filename.replace(\"vox\", \"json\")\n",
    "            convert_vox_to_json(f\"../vox/{folder}/{filename}\", f\"../json/structures/{folder}/{new_filename}\")"
   ]
  }
 ],
 "metadata": {
  "kernelspec": {
   "display_name": "Python 3",
   "language": "python",
   "name": "python3"
  },
  "language_info": {
   "codemirror_mode": {
    "name": "ipython",
    "version": 3
   },
   "file_extension": ".py",
   "mimetype": "text/x-python",
   "name": "python",
   "nbconvert_exporter": "python",
   "pygments_lexer": "ipython3",
   "version": "3.10.11"
  },
  "orig_nbformat": 4
 },
 "nbformat": 4,
 "nbformat_minor": 2
}
