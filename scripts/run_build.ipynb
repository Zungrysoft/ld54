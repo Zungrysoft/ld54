{
 "cells": [
  {
   "attachments": {},
   "cell_type": "markdown",
   "metadata": {},
   "source": [
    "This file is used to perform various script-based tasks like converting between file types."
   ]
  },
  {
   "cell_type": "code",
   "execution_count": 36,
   "metadata": {},
   "outputs": [],
   "source": [
    "# Convert all files in the .vox folder to json files\n",
    "import os\n",
    "from convert_vox_to_json import convert_vox_to_json\n",
    "\n",
    "folders = os.listdir('../vox')\n",
    "\n",
    "for folder in folders:\n",
    "    filenames = os.listdir(f\"../vox/{folder}\")\n",
    "    for filename in filenames:\n",
    "        if \"vox\" in filename:\n",
    "            new_filename = filename.replace(\"vox\", \"json\")\n",
    "            convert_vox_to_json(f\"../vox/{folder}/{filename}\", f\"../json/structures/{folder}/{new_filename}\")"
   ]
  },
  {
   "cell_type": "code",
   "execution_count": 37,
   "metadata": {},
   "outputs": [
    {
     "name": "stdout",
     "output_type": "stream",
     "text": [
      " json: {\n",
      "    shop: 'json/shop.json',\n",
      "    arena1: 'json/structures/main/arena1.json',\n",
      "    base: 'json/structures/main/base.json',\n",
      "    beam: 'json/structures/main/beam.json',\n",
      "    beams: 'json/structures/main/beams.json',\n",
      "    blueroom: 'json/structures/main/blueroom.json',\n",
      "    building1: 'json/structures/main/building1.json',\n",
      "    building2: 'json/structures/main/building2.json',\n",
      "    corner: 'json/structures/main/corner.json',\n",
      "    monolith: 'json/structures/main/monolith.json',\n",
      "    pillars: 'json/structures/main/pillars.json',\n",
      "    planter1: 'json/structures/main/planter1.json',\n",
      "    planter2: 'json/structures/main/planter2.json',\n",
      "    plate: 'json/structures/main/plate.json',\n",
      "    redplat: 'json/structures/main/redplat.json',\n",
      "    scaffolding: 'json/structures/main/scaffolding.json',\n",
      "    scaffolding2: 'json/structures/main/scaffolding2.json',\n",
      "    stairs: 'json/structures/main/stairs.json',\n",
      "    starter: 'json/structures/main/starter.json',\n",
      "    temple: 'json/structures/main/temple.json',\n",
      "    thinplatform: 'json/structures/main/thinplatform.json',\n",
      "    tunnel: 'json/structures/main/tunnel.json',\n",
      "  },\n"
     ]
    }
   ],
   "source": [
    "# Create assets json data\n",
    "import os\n",
    "\n",
    "folder_path = '../json/structures/main'\n",
    "filenames = os.listdir(folder_path)\n",
    "print(\" json: {\")\n",
    "print(\"    shop: 'json/shop.json',\")\n",
    "for filename in filenames:\n",
    "    stripped = filename.replace(\".json\", \"\")\n",
    "    print(f\"    {stripped}: 'json/structures/main/{filename}',\")\n",
    "print(\"  },\")"
   ]
  },
  {
   "cell_type": "code",
   "execution_count": 38,
   "metadata": {},
   "outputs": [
    {
     "name": "stdout",
     "output_type": "stream",
     "text": [
      "arena1.json: 4664 / $6\n",
      "base.json: 5156 / $6\n",
      "beam.json: 3024 / $4\n",
      "beams.json: 9888 / $12\n",
      "blueroom.json: 5211 / $7\n",
      "building1.json: 6756 / $8\n",
      "building2.json: 5824 / $7\n",
      "corner.json: 13005 / $16\n",
      "monolith.json: 2236 / $3\n",
      "pillars.json: 1617 / $2\n",
      "planter1.json: 2550 / $3\n",
      "planter2.json: 1710 / $2\n",
      "plate.json: 293 / $0\n",
      "redplat.json: 2316 / $3\n",
      "scaffolding.json: 2476 / $3\n",
      "scaffolding2.json: 3176 / $4\n",
      "stairs.json: 6808 / $9\n",
      "starter.json: 15032 / $19\n",
      "temple.json: 8600 / $11\n",
      "thinplatform.json: 437 / $1\n",
      "tunnel.json: 2450 / $3\n"
     ]
    }
   ],
   "source": [
    "# Count the number of solid voxels in each structure file\n",
    "import os\n",
    "import json\n",
    "\n",
    "voxels_per_dollar = 800\n",
    "folder_path = '../json/structures/main'\n",
    "filenames = os.listdir(folder_path)\n",
    "for filename in filenames:\n",
    "    if \"json\" in filename:\n",
    "        with open(os.path.join(folder_path, filename), 'r') as json_file:\n",
    "            json_data = json.load(json_file)\n",
    "            voxel_count = len(json_data[\"voxels\"])\n",
    "            print(f\"{filename}: {voxel_count} / ${round(voxel_count/voxels_per_dollar)}\")"
   ]
  }
 ],
 "metadata": {
  "kernelspec": {
   "display_name": "Python 3",
   "language": "python",
   "name": "python3"
  },
  "language_info": {
   "codemirror_mode": {
    "name": "ipython",
    "version": 3
   },
   "file_extension": ".py",
   "mimetype": "text/x-python",
   "name": "python",
   "nbconvert_exporter": "python",
   "pygments_lexer": "ipython3",
   "version": "3.10.11"
  },
  "orig_nbformat": 4
 },
 "nbformat": 4,
 "nbformat_minor": 2
}
