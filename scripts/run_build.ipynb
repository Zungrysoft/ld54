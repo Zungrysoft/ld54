{
 "cells": [
  {
   "attachments": {},
   "cell_type": "markdown",
   "metadata": {},
   "source": [
    "This file is used to perform various script-based tasks like converting between file types."
   ]
  },
  {
   "cell_type": "code",
   "execution_count": 24,
   "metadata": {},
   "outputs": [],
   "source": [
    "# Convert all files in the .vox folder to json files\n",
    "import os\n",
    "from convert_vox_to_json import convert_vox_to_json\n",
    "\n",
    "folders = os.listdir('../vox')\n",
    "\n",
    "for folder in folders:\n",
    "    filenames = os.listdir(f\"../vox/{folder}\")\n",
    "    for filename in filenames:\n",
    "        if \"vox\" in filename:\n",
    "            new_filename = filename.replace(\"vox\", \"json\")\n",
    "            convert_vox_to_json(f\"../vox/{folder}/{filename}\", f\"../json/structures/{folder}/{new_filename}\")"
   ]
  }
 ],
 "metadata": {
  "kernelspec": {
   "display_name": "Python 3",
   "language": "python",
   "name": "python3"
  },
  "language_info": {
   "codemirror_mode": {
    "name": "ipython",
    "version": 3
   },
   "file_extension": ".py",
   "mimetype": "text/x-python",
   "name": "python",
   "nbconvert_exporter": "python",
   "pygments_lexer": "ipython3",
   "version": "3.10.11"
  },
  "orig_nbformat": 4
 },
 "nbformat": 4,
 "nbformat_minor": 2
}
