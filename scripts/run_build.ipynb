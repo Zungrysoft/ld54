{
 "cells": [
  {
   "attachments": {},
   "cell_type": "markdown",
   "metadata": {},
   "source": [
    "This file is used to perform various script-based tasks like converting between file types."
   ]
  },
  {
   "cell_type": "code",
   "execution_count": 58,
   "metadata": {},
   "outputs": [],
   "source": [
    "# Convert all files in the .vox folder to json files\n",
    "import os\n",
    "from convert_vox_to_json import convert_vox_to_json\n",
    "\n",
    "folders = os.listdir('../vox')\n",
    "\n",
    "for folder in folders:\n",
    "    filenames = os.listdir(f\"../vox/{folder}\")\n",
    "    for filename in filenames:\n",
    "        if \"vox\" in filename:\n",
    "            new_filename = filename.replace(\"vox\", \"json\")\n",
    "            convert_vox_to_json(f\"../vox/{folder}/{filename}\", f\"../json/structures/{folder}/{new_filename}\")"
   ]
  },
  {
   "cell_type": "code",
   "execution_count": 59,
   "metadata": {},
   "outputs": [
    {
     "name": "stdout",
     "output_type": "stream",
     "text": [
      " json: {\n",
      "    shop: 'json/shop.json',\n",
      "    arena1: 'json/structures/main/arena1.json',\n",
      "    base: 'json/structures/main/base.json',\n",
      "    beam: 'json/structures/main/beam.json',\n",
      "    beams: 'json/structures/main/beams.json',\n",
      "    blueroom: 'json/structures/main/blueroom.json',\n",
      "    building1: 'json/structures/main/building1.json',\n",
      "    building2: 'json/structures/main/building2.json',\n",
      "    building3: 'json/structures/main/building3.json',\n",
      "    corner: 'json/structures/main/corner.json',\n",
      "    monolith: 'json/structures/main/monolith.json',\n",
      "    pathway: 'json/structures/main/pathway.json',\n",
      "    pathway2: 'json/structures/main/pathway2.json',\n",
      "    pathway3: 'json/structures/main/pathway3.json',\n",
      "    pathway4: 'json/structures/main/pathway4.json',\n",
      "    pillars: 'json/structures/main/pillars.json',\n",
      "    planter1: 'json/structures/main/planter1.json',\n",
      "    planter2: 'json/structures/main/planter2.json',\n",
      "    plate: 'json/structures/main/plate.json',\n",
      "    redplat: 'json/structures/main/redplat.json',\n",
      "    scaffolding: 'json/structures/main/scaffolding.json',\n",
      "    scaffolding2: 'json/structures/main/scaffolding2.json',\n",
      "    stairs: 'json/structures/main/stairs.json',\n",
      "    starter: 'json/structures/main/starter.json',\n",
      "    starterold: 'json/structures/main/starterold.json',\n",
      "    temple: 'json/structures/main/temple.json',\n",
      "    thinplatform: 'json/structures/main/thinplatform.json',\n",
      "    trail: 'json/structures/main/trail.json',\n",
      "    trail2: 'json/structures/main/trail2.json',\n",
      "    tunnel: 'json/structures/main/tunnel.json',\n",
      "  },\n"
     ]
    }
   ],
   "source": [
    "# Create assets json data\n",
    "import os\n",
    "\n",
    "folder_path = '../json/structures/main'\n",
    "filenames = os.listdir(folder_path)\n",
    "print(\" json: {\")\n",
    "print(\"    shop: 'json/shop.json',\")\n",
    "for filename in filenames:\n",
    "    stripped = filename.replace(\".json\", \"\")\n",
    "    print(f\"    {stripped}: 'json/structures/main/{filename}',\")\n",
    "print(\"  },\")"
   ]
  },
  {
   "cell_type": "code",
   "execution_count": 60,
   "metadata": {},
   "outputs": [
    {
     "name": "stdout",
     "output_type": "stream",
     "text": [
      "arena1.json: 4664 / $4\n",
      "base.json: 5156 / $4\n",
      "beam.json: 3024 / $3\n",
      "beams.json: 9888 / $8\n",
      "blueroom.json: 5211 / $4\n",
      "building1.json: 6756 / $6\n",
      "building2.json: 5824 / $5\n",
      "building3.json: 10060 / $8\n",
      "corner.json: 13005 / $11\n",
      "monolith.json: 2236 / $2\n",
      "pathway.json: 2224 / $2\n",
      "pathway2.json: 1552 / $1\n",
      "pathway3.json: 2280 / $2\n",
      "pathway4.json: 1271 / $1\n",
      "pillars.json: 1617 / $1\n",
      "planter1.json: 2550 / $2\n",
      "planter2.json: 1710 / $1\n",
      "plate.json: 293 / $0\n",
      "redplat.json: 2316 / $2\n",
      "scaffolding.json: 2476 / $2\n",
      "scaffolding2.json: 3176 / $3\n",
      "stairs.json: 6808 / $6\n",
      "starter.json: 7028 / $6\n",
      "starterold.json: 15032 / $13\n",
      "temple.json: 8600 / $7\n",
      "thinplatform.json: 437 / $0\n",
      "trail.json: 4945 / $4\n",
      "trail2.json: 6523 / $5\n",
      "tunnel.json: 2450 / $2\n"
     ]
    }
   ],
   "source": [
    "# Count the number of solid voxels in each structure file\n",
    "import os\n",
    "import json\n",
    "\n",
    "voxels_per_dollar = 1200\n",
    "folder_path = '../json/structures/main'\n",
    "filenames = os.listdir(folder_path)\n",
    "for filename in filenames:\n",
    "    if \"json\" in filename:\n",
    "        with open(os.path.join(folder_path, filename), 'r') as json_file:\n",
    "            json_data = json.load(json_file)\n",
    "            voxel_count = len(json_data[\"voxels\"])\n",
    "            print(f\"{filename}: {voxel_count} / ${round(voxel_count/voxels_per_dollar)}\")"
   ]
  }
 ],
 "metadata": {
  "kernelspec": {
   "display_name": "Python 3",
   "language": "python",
   "name": "python3"
  },
  "language_info": {
   "codemirror_mode": {
    "name": "ipython",
    "version": 3
   },
   "file_extension": ".py",
   "mimetype": "text/x-python",
   "name": "python",
   "nbconvert_exporter": "python",
   "pygments_lexer": "ipython3",
   "version": "3.10.11"
  },
  "orig_nbformat": 4
 },
 "nbformat": 4,
 "nbformat_minor": 2
}
