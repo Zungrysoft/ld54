{
 "cells": [
  {
   "attachments": {},
   "cell_type": "markdown",
   "metadata": {},
   "source": [
    "This file is used to perform various script-based tasks like converting between file types."
   ]
  },
  {
   "cell_type": "code",
   "execution_count": 3,
   "metadata": {},
   "outputs": [],
   "source": [
    "# Convert all files in the .vox folder to json files\n",
    "import os\n",
    "from convert_vox_to_json import convert_vox_to_json\n",
    "\n",
    "folders = os.listdir('../vox')\n",
    "\n",
    "for folder in folders:\n",
    "    filenames = os.listdir(f\"../vox/{folder}\")\n",
    "    for filename in filenames:\n",
    "        if \"vox\" in filename:\n",
    "            new_filename = filename.replace(\"vox\", \"json\")\n",
    "            convert_vox_to_json(f\"../vox/{folder}/{filename}\", f\"../json/structures/{folder}/{new_filename}\")"
   ]
  },
  {
   "cell_type": "code",
   "execution_count": 6,
   "metadata": {},
   "outputs": [
    {
     "name": "stdout",
     "output_type": "stream",
     "text": [
      "base.json: 5156 / 12.89\n",
      "beam.json: 3024 / 7.56\n",
      "beams.json: 9888 / 24.72\n",
      "blueroom.json: 5061 / 12.6525\n",
      "monolith.json: 2236 / 5.59\n",
      "redplat.json: 2316 / 5.79\n",
      "starter.json: 15032 / 37.58\n",
      "temple.json: 8600 / 21.5\n",
      "thinplatform.json: 437 / 1.0925\n",
      "tunnel.json: 2450 / 6.125\n"
     ]
    }
   ],
   "source": [
    "# Count the number of solid voxels in each structure file\n",
    "import os\n",
    "import json\n",
    "\n",
    "voxels_per_dollar = 400\n",
    "folder_path = '../json/structures/main'\n",
    "filenames = os.listdir(folder_path)\n",
    "for filename in filenames:\n",
    "    if \"json\" in filename:\n",
    "        with open(os.path.join(folder_path, filename), 'r') as json_file:\n",
    "            json_data = json.load(json_file)\n",
    "            voxel_count = len(json_data[\"voxels\"])\n",
    "            print(f\"{filename}: {voxel_count} / {voxel_count/voxels_per_dollar}\")"
   ]
  }
 ],
 "metadata": {
  "kernelspec": {
   "display_name": "Python 3",
   "language": "python",
   "name": "python3"
  },
  "language_info": {
   "codemirror_mode": {
    "name": "ipython",
    "version": 3
   },
   "file_extension": ".py",
   "mimetype": "text/x-python",
   "name": "python",
   "nbconvert_exporter": "python",
   "pygments_lexer": "ipython3",
   "version": "3.10.11"
  },
  "orig_nbformat": 4
 },
 "nbformat": 4,
 "nbformat_minor": 2
}
